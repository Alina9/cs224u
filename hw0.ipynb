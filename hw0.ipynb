{
 "cells": [
  {
   "cell_type": "markdown",
   "metadata": {},
   "source": [
    "# Homework and bake-off: Word relatedness"
   ]
  },
  {
   "cell_type": "code",
   "execution_count": null,
   "metadata": {},
   "outputs": [],
   "source": [
    "__author__ = \"Christopher Potts\"\n",
    "__version__ = \"CS224u, Stanford, Spring 2021\""
   ]
  },
  {
   "cell_type": "markdown",
   "metadata": {},
   "source": [
    "## Contents\n",
    "\n",
    "1. [Overview](#Overview)\n",
    "1. [Original system code](#Original-system-code)\n",
    "  1. [External import](#External-import)\n",
    "  1. [Custom code](#Custom-code)\n",
    "  1. [Long running test code](#Long-running-test-code)"
   ]
  },
  {
   "cell_type": "markdown",
   "metadata": {},
   "source": [
    "## Overview\n",
    "\n",
    "This notebook describes a list of Dos and Don'ts on writing code for original system and bake-off code"
   ]
  },
  {
   "cell_type": "markdown",
   "metadata": {},
   "source": [
    "## Original system code"
   ]
  },
  {
   "cell_type": "markdown",
   "metadata": {},
   "source": [
    "Our assignments need to handle specific homework questions and also very open ended Original Systems, so our instructions have to be quite detailed to handle both. \n",
    "\n",
    "Here’s one quick reminder/clarification of a common issue:\n",
    "\n",
    "\n",
    "Please be sure to include your Original System code and bake-off call within the if condition:\n",
    "\n",
    "```\n",
    "if 'IS_GRADESCOPE_ENV' not in os.environ:\n",
    "    test_evaluate_pooled_bert(evaluate_pooled_bert)\n",
    "```\n",
    "\n",
    "\n",
    "This ensures that the autograder DOES NOT attempt to run your Original System code. This includes any `import` statements used in your Original System – they should be within the if condition. \n",
    "\n",
    "Overall – please do not modify any portion of these cells other than  \n",
    "  i) the comment spaces for system text description and peak score reporting and \n",
    "  ii) the space in the if condition where you are meant to put your code.\n",
    "\n",
    "Since we encourage creativity and do not want to constrain things, your Original System code will instead be awarded credit manually by CFs after the assignment due date. This is also why you will not see a full grade out of 10 until after the submission deadline, when CFs have manually awarded the Original System points."
   ]
  },
  {
   "cell_type": "markdown",
   "metadata": {},
   "source": [
    "### External import"
   ]
  },
  {
   "cell_type": "code",
   "execution_count": null,
   "metadata": {},
   "outputs": [],
   "source": [
    "#\n",
    "# DON'T!\n",
    "#\n",
    "# This will cause autograder failed\n",
    "\n",
    "# you can import modules' of your choice\n",
    "# for example\n",
    "# https://github.com/NVIDIA/dllogger/issues/1\n",
    "pip install 'git+https://github.com/NVIDIA/dllogger'"
   ]
  },
  {
   "cell_type": "code",
   "execution_count": null,
   "metadata": {},
   "outputs": [],
   "source": [
    "#\n",
    "# DO!\n",
    "#\n",
    "# this is good!\n",
    "#\n",
    "if 'IS_GRADESCOPE_ENV' not in os.environ:\n",
    "    # you can import modules' of your choice\n",
    "    # for example\n",
    "    # https://github.com/NVIDIA/dllogger/issues/1\n",
    "    pip install 'git+https://github.com/NVIDIA/dllogger'"
   ]
  },
  {
   "cell_type": "markdown",
   "metadata": {},
   "source": [
    "### Custom code"
   ]
  },
  {
   "cell_type": "code",
   "execution_count": null,
   "metadata": {},
   "outputs": [],
   "source": [
    "#\n",
    "# DON'T!\n",
    "#\n",
    "# This type of custom code will fail, autograder is not equpipped with GPU\n",
    "#\n",
    "\n",
    "try:\n",
    "    t_gpu = torch.randn(3,3, device='cuda:0')\n",
    "except AssertionError as err:\n",
    "    print(err)\n",
    "t_gpu"
   ]
  },
  {
   "cell_type": "code",
   "execution_count": null,
   "metadata": {},
   "outputs": [],
   "source": [
    "#\n",
    "# DO\n",
    "#\n",
    "# this is good!\n",
    "#\n",
    "if 'IS_GRADESCOPE_ENV' not in os.environ:\n",
    "    try:\n",
    "        t_gpu = torch.randn(3,3, device='cuda:0')\n",
    "    except AssertionError as err:\n",
    "        print(err)\n",
    "    t_gpu"
   ]
  },
  {
   "cell_type": "markdown",
   "metadata": {},
   "source": [
    "### Long running test code\n",
    "\n",
    "Any long running test code should be inside the `if` block"
   ]
  },
  {
   "cell_type": "code",
   "execution_count": null,
   "metadata": {},
   "outputs": [],
   "source": [
    "#\n",
    "# DON'T!\n",
    "#\n",
    "# This type of custom code will cause the autograrder timed out\n",
    "#\n",
    "\n",
    "my_test_function_runs_an_hour()"
   ]
  },
  {
   "cell_type": "code",
   "execution_count": null,
   "metadata": {},
   "outputs": [],
   "source": [
    "#\n",
    "# DO\n",
    "#\n",
    "# this is good!\n",
    "#\n",
    "if 'IS_GRADESCOPE_ENV' not in os.environ:\n",
    "    # do as many test as you wish!\n",
    "    my_test_function_runs_an_hour()"
   ]
  }
 ],
 "metadata": {
  "kernelspec": {
   "display_name": "Python 3",
   "language": "python",
   "name": "python3"
  },
  "language_info": {
   "codemirror_mode": {
    "name": "ipython",
    "version": 3
   },
   "file_extension": ".py",
   "mimetype": "text/x-python",
   "name": "python",
   "nbconvert_exporter": "python",
   "pygments_lexer": "ipython3",
   "version": "3.8.8"
  },
  "widgets": {
   "state": {},
   "version": "1.1.2"
  }
 },
 "nbformat": 4,
 "nbformat_minor": 4
}
